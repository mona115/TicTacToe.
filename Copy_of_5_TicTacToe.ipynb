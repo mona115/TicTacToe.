{
  "nbformat": 4,
  "nbformat_minor": 0,
  "metadata": {
    "kernelspec": {
      "display_name": "Python 3",
      "language": "python",
      "name": "python3"
    },
    "language_info": {
      "codemirror_mode": {
        "name": "ipython",
        "version": 3
      },
      "file_extension": ".py",
      "mimetype": "text/x-python",
      "name": "python",
      "nbconvert_exporter": "python",
      "pygments_lexer": "ipython3",
      "version": "3.6.2"
    },
    "colab": {
      "name": "Copy of 5_TicTacToe.ipynb",
      "provenance": [],
      "collapsed_sections": []
    }
  },
  "cells": [
    {
      "cell_type": "markdown",
      "metadata": {
        "id": "aAjb_hDyTKQh"
      },
      "source": [
        "# Tic Tac Toe Game \n",
        "##### Scratch Building\n",
        "##### No GUI Required "
      ]
    },
    {
      "cell_type": "markdown",
      "metadata": {
        "id": "NG1KZg4sTKQj"
      },
      "source": [
        "#### Some suggested tools before you get started:\n",
        "To take input from a user:\n",
        "\n",
        "    player1 = input(\"Please pick a marker 'X' or 'O'\")\n",
        "    \n",
        "Note that input() takes in a string. If you need an integer value, use\n",
        "\n",
        "    position = int(input('Please enter a number'))\n",
        "    \n",
        "<br>To clear the screen between moves:\n",
        "\n",
        "    from IPython.display import clear_output\n",
        "    clear_output()\n",
        "    \n",
        "Note that clear_output() will only work in jupyter. To clear the screen in other IDEs, consider:\n",
        "\n",
        "    print('\\n'*100)\n",
        "    \n",
        "This scrolls the previous board up out of view. Now on to the program!"
      ]
    },
    {
      "cell_type": "markdown",
      "metadata": {
        "id": "eq31aKoKTKQk"
      },
      "source": [
        "**Step 1: Write a function that can print out a board. Set up your board as a list, where each index 1-9 corresponds with a number on a number pad, so you get a 3 by 3 board representation.**"
      ]
    },
    {
      "cell_type": "code",
      "metadata": {
        "id": "v6oZEXZXTKQl"
      },
      "source": [
        "from IPython.display import clear_output\n",
        "\n",
        "def display_board(board):\n",
        "    \n",
        "    pass"
      ],
      "execution_count": null,
      "outputs": []
    },
    {
      "cell_type": "markdown",
      "metadata": {
        "id": "YE-nz_ETTKQo"
      },
      "source": [
        "**TEST Step 1:** run your function on a test version of the board list, and make adjustments as necessary"
      ]
    },
    {
      "cell_type": "code",
      "metadata": {
        "id": "4iQ9D-u5TKQp"
      },
      "source": [
        "test_board = ['X','O','X','O','X','O','X','O','X']\n",
        "display_board(test_board)"
      ],
      "execution_count": null,
      "outputs": []
    },
    {
      "cell_type": "markdown",
      "metadata": {
        "id": "WxeUw0FhTKQr"
      },
      "source": [
        "**Step 2: Write a function that can take in a player input and assign their marker as 'X' or 'O'. Think about using *while* loops to continually ask until you get a correct answer.**"
      ]
    },
    {
      "cell_type": "code",
      "metadata": {
        "id": "MG0XC4aXTKQs"
      },
      "source": [
        "def player_input():\n",
        "    \n",
        "    pass"
      ],
      "execution_count": null,
      "outputs": []
    },
    {
      "cell_type": "markdown",
      "metadata": {
        "id": "6fVimbgzTKQu"
      },
      "source": [
        "**TEST Step 2:** run the function to make sure it returns the desired output"
      ]
    },
    {
      "cell_type": "code",
      "metadata": {
        "id": "PJSO5QX1TKQu"
      },
      "source": [
        "player_input()"
      ],
      "execution_count": null,
      "outputs": []
    },
    {
      "cell_type": "markdown",
      "metadata": {
        "id": "aQN1q9gGTKQw"
      },
      "source": [
        "**Step 3: Write a function that takes in the board list object, a marker ('X' or 'O'), and a desired position (number 1-9) and assigns it to the board.**"
      ]
    },
    {
      "cell_type": "code",
      "metadata": {
        "id": "drK45WDaTKQx"
      },
      "source": [
        "def place_marker(board, marker, position):\n",
        "    \n",
        "    pass"
      ],
      "execution_count": null,
      "outputs": []
    },
    {
      "cell_type": "markdown",
      "metadata": {
        "id": "gapk660ATKQz"
      },
      "source": [
        "**TEST Step 3:** run the place marker function using test parameters and display the modified board"
      ]
    },
    {
      "cell_type": "code",
      "metadata": {
        "id": "4vIDyBjrTKQ0"
      },
      "source": [
        "place_marker(test_board,'$',8)\n",
        "display_board(test_board)"
      ],
      "execution_count": null,
      "outputs": []
    },
    {
      "cell_type": "markdown",
      "metadata": {
        "id": "vRuvrYsVTKQ2"
      },
      "source": [
        "**Step 4: Write a function that takes in a board and a mark (X or O) and then checks to see if that mark has won. **"
      ]
    },
    {
      "cell_type": "code",
      "metadata": {
        "id": "Zl_L_t1xTKQ2"
      },
      "source": [
        "def win_check(board, mark):\n",
        "    \n",
        "    pass"
      ],
      "execution_count": null,
      "outputs": []
    },
    {
      "cell_type": "markdown",
      "metadata": {
        "id": "D9tY6vCHTKQ4"
      },
      "source": [
        "**TEST Step 4:** run the win_check function against our test_board - it should return True"
      ]
    },
    {
      "cell_type": "code",
      "metadata": {
        "id": "W_rBIIOCTKQ5"
      },
      "source": [
        "win_check(test_board,'X')"
      ],
      "execution_count": null,
      "outputs": []
    },
    {
      "cell_type": "markdown",
      "metadata": {
        "id": "ROj56ItpTKQ7"
      },
      "source": [
        "**Step 5: Write a function that uses the random module to randomly decide which player goes first. You may want to lookup random.randint() Return a string of which player went first.**"
      ]
    },
    {
      "cell_type": "code",
      "metadata": {
        "id": "NMgrAjU3TKQ7"
      },
      "source": [
        "import random\n",
        "\n",
        "def choose_first():\n",
        "    pass"
      ],
      "execution_count": null,
      "outputs": []
    },
    {
      "cell_type": "markdown",
      "metadata": {
        "id": "7H1uXKU-TKQ9"
      },
      "source": [
        "**Step 6: Write a function that returns a boolean indicating whether a space on the board is freely available.**"
      ]
    },
    {
      "cell_type": "code",
      "metadata": {
        "id": "i0rtv4b3TKQ-"
      },
      "source": [
        "def space_check(board, position):\n",
        "    \n",
        "    pass"
      ],
      "execution_count": null,
      "outputs": []
    },
    {
      "cell_type": "markdown",
      "metadata": {
        "id": "TKfVJE_KTKRA"
      },
      "source": [
        "**Step 7: Write a function that checks if the board is full and returns a boolean value. True if full, False otherwise.**"
      ]
    },
    {
      "cell_type": "code",
      "metadata": {
        "id": "Vsa0TroYTKRB"
      },
      "source": [
        "def full_board_check(board):\n",
        "    \n",
        "    pass"
      ],
      "execution_count": null,
      "outputs": []
    },
    {
      "cell_type": "markdown",
      "metadata": {
        "id": "ju-R3rRATKRD"
      },
      "source": [
        "**Step 8: Write a function that asks for a player's next position (as a number 1-9) and then uses the function from step 6 to check if it's a free position. If it is, then return the position for later use.**"
      ]
    },
    {
      "cell_type": "code",
      "metadata": {
        "id": "zLusZVZETKRE"
      },
      "source": [
        "def player_choice(board):\n",
        "    \n",
        "    pass"
      ],
      "execution_count": null,
      "outputs": []
    },
    {
      "cell_type": "markdown",
      "metadata": {
        "id": "E9ryWxTdTKRG"
      },
      "source": [
        "**Step 9: Write a function that asks the player if they want to play again and returns a boolean True if they do want to play again.**"
      ]
    },
    {
      "cell_type": "code",
      "metadata": {
        "id": "1_Nt3ngsTKRG"
      },
      "source": [
        "def replay():\n",
        "    \n",
        "    pass"
      ],
      "execution_count": null,
      "outputs": []
    },
    {
      "cell_type": "markdown",
      "metadata": {
        "collapsed": true,
        "id": "gjLdHz0MTKRI"
      },
      "source": [
        "**Step 10: Here comes the hard part! Use while loops and the functions you've made to run the game!**"
      ]
    },
    {
      "cell_type": "code",
      "metadata": {
        "id": "84vKO9k9TKRJ"
      },
      "source": [
        "print('Welcome to Tic Tac Toe!')\n",
        "\n",
        "#while True:\n",
        "    # Set the game up here\n",
        "    #pass\n",
        "\n",
        "    #while game_on:\n",
        "        #Player 1 Turn\n",
        "        \n",
        "        \n",
        "        # Player2's turn.\n",
        "            \n",
        "            #pass\n",
        "\n",
        "    #if not replay():\n",
        "        #break"
      ],
      "execution_count": null,
      "outputs": []
    },
    {
      "cell_type": "code",
      "metadata": {
        "id": "gNbVLiXLmpqW",
        "colab": {
          "base_uri": "https://localhost:8080/"
        },
        "outputId": "2e304cd5-37f1-4e3d-fc27-744c17b7811f"
      },
      "source": [
        "\n",
        "def print_tic_tac_toe(values):\n",
        "    print(\"\\n\")\n",
        "    print(\"\\t     |     |\")\n",
        "    print(\"\\t  {}  |  {}  |  {}\".format(values[0], values[1], values[2]))\n",
        "    print('\\t_____|_____|_____')\n",
        " \n",
        "    print(\"\\t     |     |\")\n",
        "    print(\"\\t  {}  |  {}  |  {}\".format(values[3], values[4], values[5]))\n",
        "    print('\\t_____|_____|_____')\n",
        " \n",
        "    print(\"\\t     |     |\")\n",
        " \n",
        "    print(\"\\t  {}  |  {}  |  {}\".format(values[6], values[7], values[8]))\n",
        "    print(\"\\t     |     |\")\n",
        "    print(\"\\n\")\n",
        " \n",
        " \n",
        "\n",
        "def check_win(player_pos, cur_player):\n",
        " \n",
        "    \n",
        "    soln = [[1, 2, 3], [4, 5, 6], [7, 8, 9], [1, 4, 7], [2, 5, 8], [3, 6, 9], [1, 5, 9], [3, 5, 7]]\n",
        " \n",
        "   \n",
        "    for x in soln:\n",
        "        if all(y in player_pos[cur_player] for y in x):\n",
        " \n",
        "            \n",
        "            return True\n",
        "      \n",
        "    return False       \n",
        " \n",
        "\n",
        "def check_draw(player_pos):\n",
        "    if len(player_pos['X']) + len(player_pos['O']) == 9:\n",
        "        return True\n",
        "    return False       \n",
        " \n",
        "\n",
        "def single_game(cur_player):\n",
        " \n",
        "    \n",
        "    values = [' ' for x in range(9)]\n",
        "     \n",
        "    \n",
        "    player_pos = {'X':[], 'O':[]}\n",
        "     \n",
        "    \n",
        "    while True:\n",
        "        print_tic_tac_toe(values)\n",
        "         \n",
        "        \n",
        "        try:\n",
        "            print(\"Player \", cur_player, \" turn. Which box? : \", end=\"\")\n",
        "            move = int(input()) \n",
        "        except ValueError:\n",
        "            print(\"Wrong Input!!! Try Again\")\n",
        "            continue\n",
        " \n",
        "        \n",
        "        if move < 1 or move > 9:\n",
        "            print(\"Wrong Input!!! Try Again\")\n",
        "            continue\n",
        " \n",
        "        \n",
        "        if values[move-1] != ' ':\n",
        "            print(\"Place already filled. Try again!!\")\n",
        "            continue\n",
        " \n",
        "        \n",
        "        values[move-1] = cur_player\n",
        " \n",
        "        \n",
        "        player_pos[cur_player].append(move)\n",
        " \n",
        "        \n",
        "        if check_win(player_pos, cur_player):\n",
        "            print_tic_tac_toe(values)\n",
        "            print(\"Player \", cur_player, \" has won the game!!\")     \n",
        "            print(\"\\n\")\n",
        "            return cur_player\n",
        " \n",
        "       \n",
        "        if check_draw(player_pos):\n",
        "            print_tic_tac_toe(values)\n",
        "            print(\"Game Drawn\")\n",
        "            print(\"\\n\")\n",
        "            return 'D'\n",
        " \n",
        "        \n",
        "        if cur_player == 'X':\n",
        "            cur_player = 'O'\n",
        "        else:\n",
        "            cur_player = 'X'\n",
        " \n",
        "if __name__ == \"__main__\":\n",
        " \n",
        "    print(\"Player 1\")\n",
        "    player1 = input(\"Enter the: \")\n",
        "    print(\"\\n\")\n",
        " \n",
        "    print(\"Player 2\")\n",
        "    player2 = input(\"Enter the : \")\n",
        "    print(\"\\n\")\n",
        "     \n",
        "    \n",
        "    cur_player = player1\n",
        " \n",
        "   \n",
        "    player_choice = {'X' : \"\", 'O' : \"\"}\n",
        " \n",
        "    \n",
        "    options = ['X', 'O']\n",
        " \n",
        "   \n",
        "    while True:\n",
        " \n",
        "        \n",
        "        print(\"Turn to choose for\", cur_player)\n",
        "        print(\"Enter 1 for X\")\n",
        "        print(\"Enter 2 for O\")\n",
        "        print(\"Enter 3 to Quit\")\n",
        " \n",
        "       \n",
        "        try:\n",
        "            choice = int(input())   \n",
        "        except ValueError:\n",
        "            print(\"Wrong Input!!! Try Again\\n\")\n",
        "            continue\n",
        " \n",
        "       \n",
        "        if choice == 1:\n",
        "            player_choice['X'] = cur_player\n",
        "            if cur_player == player1:\n",
        "                player_choice['O'] = player2\n",
        "            else:\n",
        "                player_choice['O'] = player1\n",
        " \n",
        "        elif choice == 2:\n",
        "            player_choice['O'] = cur_player\n",
        "            if cur_player == player1:\n",
        "                player_choice['X'] = player2\n",
        "            else:\n",
        "                player_choice['X'] = player1\n",
        "         \n",
        "        elif choice == 3:\n",
        "            print(\"The game finish\")\n",
        "            \n",
        "            break  \n",
        " \n",
        "        else:\n",
        "            print(\"Wrong Choice!!!! Try Again\\n\")\n",
        " \n",
        "       \n",
        "        winner = single_game(options[choice-1])\n",
        "         \n",
        "        \n",
        "        if winner != 'D' :\n",
        "           player_won = player_choice[winner]\n",
        "           score_board[player_won] = score_board[player_won] + 1\n",
        " \n",
        "       \n",
        "       \n",
        "        if cur_player == player1:\n",
        "            cur_player = player2\n",
        "        else:\n",
        "            cur_player = player1\n"
      ],
      "execution_count": 15,
      "outputs": [
        {
          "output_type": "stream",
          "text": [
            "Player 1\n",
            "Enter the: m\n",
            "\n",
            "\n",
            "Player 2\n",
            "Enter the : b\n",
            "\n",
            "\n",
            "Turn to choose for m\n",
            "Enter 1 for X\n",
            "Enter 2 for O\n",
            "Enter 3 to Quit\n",
            "1\n",
            "\n",
            "\n",
            "\t     |     |\n",
            "\t     |     |   \n",
            "\t_____|_____|_____\n",
            "\t     |     |\n",
            "\t     |     |   \n",
            "\t_____|_____|_____\n",
            "\t     |     |\n",
            "\t     |     |   \n",
            "\t     |     |\n",
            "\n",
            "\n",
            "Player  X  turn. Which box? : 1\n",
            "\n",
            "\n",
            "\t     |     |\n",
            "\t  X  |     |   \n",
            "\t_____|_____|_____\n",
            "\t     |     |\n",
            "\t     |     |   \n",
            "\t_____|_____|_____\n",
            "\t     |     |\n",
            "\t     |     |   \n",
            "\t     |     |\n",
            "\n",
            "\n",
            "Player  O  turn. Which box? : 9\n",
            "\n",
            "\n",
            "\t     |     |\n",
            "\t  X  |     |   \n",
            "\t_____|_____|_____\n",
            "\t     |     |\n",
            "\t     |     |   \n",
            "\t_____|_____|_____\n",
            "\t     |     |\n",
            "\t     |     |  O\n",
            "\t     |     |\n",
            "\n",
            "\n",
            "Player  X  turn. Which box? : 2\n",
            "\n",
            "\n",
            "\t     |     |\n",
            "\t  X  |  X  |   \n",
            "\t_____|_____|_____\n",
            "\t     |     |\n",
            "\t     |     |   \n",
            "\t_____|_____|_____\n",
            "\t     |     |\n",
            "\t     |     |  O\n",
            "\t     |     |\n",
            "\n",
            "\n",
            "Player  O  turn. Which box? : 8\n",
            "\n",
            "\n",
            "\t     |     |\n",
            "\t  X  |  X  |   \n",
            "\t_____|_____|_____\n",
            "\t     |     |\n",
            "\t     |     |   \n",
            "\t_____|_____|_____\n",
            "\t     |     |\n",
            "\t     |  O  |  O\n",
            "\t     |     |\n",
            "\n",
            "\n",
            "Player  X  turn. Which box? : 3\n",
            "\n",
            "\n",
            "\t     |     |\n",
            "\t  X  |  X  |  X\n",
            "\t_____|_____|_____\n",
            "\t     |     |\n",
            "\t     |     |   \n",
            "\t_____|_____|_____\n",
            "\t     |     |\n",
            "\t     |  O  |  O\n",
            "\t     |     |\n",
            "\n",
            "\n",
            "Player  X  has won the game!!\n",
            "\n",
            "\n",
            "Turn to choose for b\n",
            "Enter 1 for X\n",
            "Enter 2 for O\n",
            "Enter 3 to Quit\n",
            "3\n",
            "The game finish\n"
          ],
          "name": "stdout"
        }
      ]
    },
    {
      "cell_type": "markdown",
      "metadata": {
        "collapsed": true,
        "id": "V3AlA00FTKRL"
      },
      "source": [
        "## Good Job!"
      ]
    }
  ]
}